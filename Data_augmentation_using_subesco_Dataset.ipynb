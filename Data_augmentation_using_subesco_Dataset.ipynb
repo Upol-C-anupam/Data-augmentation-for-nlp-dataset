{
  "metadata": {
    "kernelspec": {
      "language": "python",
      "display_name": "Python 3",
      "name": "python3"
    },
    "language_info": {
      "pygments_lexer": "ipython3",
      "nbconvert_exporter": "python",
      "version": "3.6.4",
      "file_extension": ".py",
      "codemirror_mode": {
        "name": "ipython",
        "version": 3
      },
      "name": "python",
      "mimetype": "text/x-python"
    },
    "colab": {
      "provenance": []
    }
  },
  "nbformat_minor": 0,
  "nbformat": 4,
  "cells": [
    {
      "cell_type": "code",
      "source": [
        "import numpy as np\n",
        "import pandas as pd\n",
        "import librosa\n",
        "from IPython.display import Audio, display\n",
        "import IPython\n",
        "import librosa.display"
      ],
      "metadata": {
        "_uuid": "8f2839f25d086af736a60e9eeb907d3b93b6e0e5",
        "_cell_guid": "b1076dfc-b9ad-4769-8c92-a6c4dae69d19",
        "trusted": true,
        "id": "79i6BbH4grSv"
      },
      "execution_count": null,
      "outputs": []
    },
    {
      "cell_type": "code",
      "source": [
        "from glob import glob\n",
        "\n",
        "filenames = glob('')\n",
        "\n",
        "labels = []\n",
        "for each in filenames:\n",
        "    each = each.split('/')[-1][:-3]\n",
        "    labels.append(each.split('_')[-2])"
      ],
      "metadata": {
        "execution": {
          "iopub.status.busy": "2022-07-25T15:11:49.831633Z",
          "iopub.execute_input": "2022-07-25T15:11:49.83192Z",
          "iopub.status.idle": "2022-07-25T15:11:50.43463Z",
          "shell.execute_reply.started": "2022-07-25T15:11:49.831887Z",
          "shell.execute_reply": "2022-07-25T15:11:50.433944Z"
        },
        "trusted": true,
        "id": "-G4a0OU0grS1"
      },
      "execution_count": null,
      "outputs": []
    },
    {
      "cell_type": "code",
      "source": [],
      "metadata": {
        "trusted": true,
        "id": "-sR1QbkhgrS2"
      },
      "execution_count": null,
      "outputs": []
    },
    {
      "cell_type": "code",
      "source": [
        "import matplotlib.pyplot as plt\n",
        "import numpy as np\n",
        "import csv\n",
        "import scipy\n",
        "from scipy.io import wavfile\n",
        "import os\n",
        "from sklearn.ensemble import RandomForestClassifier\n",
        "from sklearn.model_selection import train_test_split, ParameterGrid\n",
        "from sklearn.metrics import accuracy_score, precision_recall_fscore_support, confusion_matrix\n",
        "from sklearn.neural_network import MLPClassifier\n",
        "from sklearn.model_selection import GridSearchCV\n",
        "from sklearn.metrics import classification_report"
      ],
      "metadata": {
        "execution": {
          "iopub.status.busy": "2022-07-25T15:11:50.435676Z",
          "iopub.execute_input": "2022-07-25T15:11:50.43592Z",
          "iopub.status.idle": "2022-07-25T15:11:50.533071Z",
          "shell.execute_reply.started": "2022-07-25T15:11:50.435887Z",
          "shell.execute_reply": "2022-07-25T15:11:50.53239Z"
        },
        "trusted": true,
        "id": "wZW32VvPgrS3"
      },
      "execution_count": null,
      "outputs": []
    },
    {
      "cell_type": "code",
      "source": [
        "file = filenames[0]\n",
        "data = [] # X\n",
        "\n",
        "\n",
        "from tqdm import tqdm\n",
        "\n",
        "# reading the files here\n",
        "\n",
        "for file in tqdm(filenames):\n",
        "    temp = scipy.io.wavfile.read(file, mmap=False)\n",
        "    data.append(temp[1])\n",
        "\n",
        "index = [] # y\n",
        "for each in labels:\n",
        "    index.append(list(np.unique(labels)).index('FEAR'))"
      ],
      "metadata": {
        "execution": {
          "iopub.status.busy": "2022-07-25T16:26:51.954195Z",
          "iopub.execute_input": "2022-07-25T16:26:51.955042Z",
          "iopub.status.idle": "2022-07-25T16:27:19.858298Z",
          "shell.execute_reply.started": "2022-07-25T16:26:51.954999Z",
          "shell.execute_reply": "2022-07-25T16:27:19.857502Z"
        },
        "trusted": true,
        "id": "AYHLU5XzgrS4"
      },
      "execution_count": null,
      "outputs": []
    },
    {
      "cell_type": "code",
      "source": [
        "len(data[0])"
      ],
      "metadata": {
        "execution": {
          "iopub.status.busy": "2022-07-25T17:08:05.001668Z",
          "iopub.execute_input": "2022-07-25T17:08:05.00196Z",
          "iopub.status.idle": "2022-07-25T17:08:05.008136Z",
          "shell.execute_reply.started": "2022-07-25T17:08:05.001927Z",
          "shell.execute_reply": "2022-07-25T17:08:05.007166Z"
        },
        "trusted": true,
        "id": "0j5OCFmqgrS4"
      },
      "execution_count": null,
      "outputs": []
    },
    {
      "cell_type": "code",
      "source": [
        "index = 5000\n",
        "print(labels[index])\n",
        "plt.plot(data[index])\n",
        "\n",
        "IPython.display.Audio(filenames[index])\n",
        "\n",
        "#একদিন পরেই তার বিয়ে :v\n",
        "#"
      ],
      "metadata": {
        "execution": {
          "iopub.status.busy": "2022-07-25T16:28:07.064579Z",
          "iopub.execute_input": "2022-07-25T16:28:07.06524Z",
          "iopub.status.idle": "2022-07-25T16:28:07.33129Z",
          "shell.execute_reply.started": "2022-07-25T16:28:07.065205Z",
          "shell.execute_reply": "2022-07-25T16:28:07.330583Z"
        },
        "trusted": true,
        "id": "9AQ5FbFZgrS5"
      },
      "execution_count": null,
      "outputs": []
    },
    {
      "cell_type": "code",
      "source": [
        "index = 5909\n",
        "print(labels[index])\n",
        "plt.plot(data[index])\n",
        "\n",
        "IPython.display.Audio(filenames[index])\n",
        "#মৌমাছির চাক দেখে কুকুরটি ঘেউ ঘেউ করছে"
      ],
      "metadata": {
        "execution": {
          "iopub.status.busy": "2022-07-25T16:29:50.323903Z",
          "iopub.execute_input": "2022-07-25T16:29:50.324628Z",
          "iopub.status.idle": "2022-07-25T16:29:50.636596Z",
          "shell.execute_reply.started": "2022-07-25T16:29:50.324585Z",
          "shell.execute_reply": "2022-07-25T16:29:50.635936Z"
        },
        "trusted": true,
        "id": "gxSAtmx4grS6"
      },
      "execution_count": null,
      "outputs": []
    },
    {
      "cell_type": "code",
      "source": [],
      "metadata": {
        "trusted": true,
        "id": "ZG4d8A2xgrS8"
      },
      "execution_count": null,
      "outputs": []
    },
    {
      "cell_type": "code",
      "source": [
        "import seaborn as sns\n",
        "plt.title('Count of Emotions', size=16)\n",
        "sns.countplot(labels)\n",
        "sns.despine(top=True, right=True, left=False, bottom=False)\n",
        "plt.show()"
      ],
      "metadata": {
        "execution": {
          "iopub.status.busy": "2022-07-25T15:02:06.758612Z",
          "iopub.execute_input": "2022-07-25T15:02:06.759048Z",
          "iopub.status.idle": "2022-07-25T15:02:07.078574Z",
          "shell.execute_reply.started": "2022-07-25T15:02:06.759006Z",
          "shell.execute_reply": "2022-07-25T15:02:07.077835Z"
        },
        "trusted": true,
        "id": "yPJViRd7grS8"
      },
      "execution_count": null,
      "outputs": []
    },
    {
      "cell_type": "code",
      "source": [
        "def create_waveplot(data, sr, e):\n",
        "    plt.figure(figsize=(10, 3))\n",
        "    plt.title('Waveplot for audio with {} emotion'.format(e), size=15)\n",
        "    librosa.display.waveplot(data, sr=sr)\n",
        "    plt.show()\n",
        "\n",
        "def create_spectrogram(data, sr, e):\n",
        "    # stft function converts the data into short term fourier transform\n",
        "    X = librosa.stft(data)\n",
        "    Xdb = librosa.amplitude_to_db(abs(X))\n",
        "    plt.figure(figsize=(12, 3))\n",
        "    plt.title('Spectrogram for audio with {} emotion'.format(e), size=15)\n",
        "    librosa.display.specshow(Xdb, sr=sr, x_axis='time', y_axis='hz')\n",
        "    #librosa.display.specshow(Xdb, sr=sr, x_axis='time', y_axis='log')\n",
        "    plt.colorbar()"
      ],
      "metadata": {
        "execution": {
          "iopub.status.busy": "2022-07-25T17:45:44.598303Z",
          "iopub.execute_input": "2022-07-25T17:45:44.598778Z",
          "iopub.status.idle": "2022-07-25T17:45:44.605759Z",
          "shell.execute_reply.started": "2022-07-25T17:45:44.598739Z",
          "shell.execute_reply": "2022-07-25T17:45:44.604762Z"
        },
        "trusted": true,
        "id": "O3qnAuDZgrS9"
      },
      "execution_count": null,
      "outputs": []
    },
    {
      "cell_type": "code",
      "source": [
        "spectogram = []\n",
        "idx = 39\n",
        "#for idx in range(7000):\n",
        "emotion=labels[idx]\n",
        "path = filenames[idx]\n",
        "data, sampling_rate = librosa.load(path)\n",
        "\n",
        "a = create_spectrogram(data, sampling_rate, emotion)\n",
        "    #Audio(path)\n",
        "spectogram.append(a)"
      ],
      "metadata": {
        "execution": {
          "iopub.status.busy": "2022-07-25T17:48:35.48573Z",
          "iopub.execute_input": "2022-07-25T17:48:35.485981Z",
          "iopub.status.idle": "2022-07-25T17:48:36.052665Z",
          "shell.execute_reply.started": "2022-07-25T17:48:35.485952Z",
          "shell.execute_reply": "2022-07-25T17:48:36.051924Z"
        },
        "trusted": true,
        "id": "F672gQrlgrTD"
      },
      "execution_count": null,
      "outputs": []
    },
    {
      "cell_type": "markdown",
      "source": [
        "# **Data Augmentation**"
      ],
      "metadata": {
        "id": "Isc351iEgrTD"
      }
    },
    {
      "cell_type": "code",
      "source": [
        "def noise(data):\n",
        "    noise_amp = 0.035*np.random.uniform()*np.amax(data)\n",
        "    data = data + noise_amp*np.random.normal(size=data.shape[0])\n",
        "    return data\n",
        "\n",
        "def stretch(data, rate=0.8):\n",
        "    return librosa.effects.time_stretch(data, rate)\n",
        "\n",
        "def shift(data):\n",
        "    shift_range = int(np.random.uniform(low=-5, high = 5)*1000)\n",
        "    return np.roll(data, shift_range)\n",
        "\n",
        "def pitch(data, sampling_rate, pitch_factor=0.7):\n",
        "    return librosa.effects.pitch_shift(data, sampling_rate, pitch_factor)\n",
        "\n",
        "# taking any example and checking for techniques.\n",
        "\n",
        "# index= 5908\n",
        "# path = filenames[index]\n",
        "# dataTemp, sample_rate = librosa.load(path)"
      ],
      "metadata": {
        "execution": {
          "iopub.status.busy": "2022-07-25T17:45:37.722418Z",
          "iopub.execute_input": "2022-07-25T17:45:37.723173Z",
          "iopub.status.idle": "2022-07-25T17:45:37.730486Z",
          "shell.execute_reply.started": "2022-07-25T17:45:37.723135Z",
          "shell.execute_reply": "2022-07-25T17:45:37.729528Z"
        },
        "trusted": true,
        "id": "3c9KcYyKgrTF"
      },
      "execution_count": null,
      "outputs": []
    },
    {
      "cell_type": "markdown",
      "source": [
        "Simple"
      ],
      "metadata": {
        "id": "b7aPw5XjgrTG"
      }
    },
    {
      "cell_type": "code",
      "source": [
        "#index = 5908\n",
        "print(labels[index])\n",
        "plt.plot(data[index])\n",
        "\n",
        "IPython.display.Audio(filenames[index])\n",
        "#সে কোন কিছু না বলেই চলে গেছে"
      ],
      "metadata": {
        "execution": {
          "iopub.status.busy": "2022-07-25T15:27:48.680567Z",
          "iopub.execute_input": "2022-07-25T15:27:48.680816Z",
          "iopub.status.idle": "2022-07-25T15:27:49.094861Z",
          "shell.execute_reply.started": "2022-07-25T15:27:48.680788Z",
          "shell.execute_reply": "2022-07-25T15:27:49.094214Z"
        },
        "trusted": true,
        "id": "edlMYke6grTG"
      },
      "execution_count": null,
      "outputs": []
    },
    {
      "cell_type": "code",
      "source": [
        "def extract_features(data):\n",
        "    # ZCR\n",
        "    result = np.array([])\n",
        "    zcr = np.mean(librosa.feature.zero_crossing_rate(y=data).T, axis=0)\n",
        "    result=np.hstack((result, zcr)) # stacking horizontally\n",
        "\n",
        "    # Chroma_stft\n",
        "    stft = np.abs(librosa.stft(data))\n",
        "    chroma_stft = np.mean(librosa.feature.chroma_stft(S=stft, sr=sample_rate).T, axis=0)\n",
        "    result = np.hstack((result, chroma_stft)) # stacking horizontally\n",
        "\n",
        "    # MFCC\n",
        "    mfcc = np.mean(librosa.feature.mfcc(y=data, sr=sample_rate).T, axis=0)\n",
        "    result = np.hstack((result, mfcc)) # stacking horizontally\n",
        "\n",
        "    # Root Mean Square Value\n",
        "    rms = np.mean(librosa.feature.rms(y=data).T, axis=0)\n",
        "    result = np.hstack((result, rms)) # stacking horizontally\n",
        "\n",
        "    # MelSpectogram\n",
        "    mel = np.mean(librosa.feature.melspectrogram(y=data, sr=sample_rate).T, axis=0)\n",
        "    result = np.hstack((result, mel)) # stacking horizontally\n",
        "\n",
        "    return result\n",
        "\n",
        "def get_features(path):\n",
        "    # duration and offset are used to take care of the no audio in start and the ending of each audio files as seen above.\n",
        "    data, sample_rate = librosa.load(path, duration=2.5, offset=0.6)\n",
        "\n",
        "    # without augmentation\n",
        "    res1 = extract_features(data)\n",
        "    result = np.array(res1)\n",
        "\n",
        "    # data with noise\n",
        "    noise_data = noise(data)\n",
        "    res2 = extract_features(noise_data)\n",
        "    result = np.vstack((result, res2)) # stacking vertically\n",
        "\n",
        "    # data with stretching and pitching\n",
        "    new_data = stretch(data)\n",
        "    data_stretch_pitch = pitch(new_data, sample_rate)\n",
        "    res3 = extract_features(data_stretch_pitch)\n",
        "    result = np.vstack((result, res3)) # stacking vertically\n",
        "\n",
        "    return result"
      ],
      "metadata": {
        "execution": {
          "iopub.status.busy": "2022-07-25T15:50:19.177801Z",
          "iopub.execute_input": "2022-07-25T15:50:19.178062Z",
          "iopub.status.idle": "2022-07-25T15:50:19.18887Z",
          "shell.execute_reply.started": "2022-07-25T15:50:19.178033Z",
          "shell.execute_reply": "2022-07-25T15:50:19.188079Z"
        },
        "trusted": true,
        "id": "hccCJmkxgrTH"
      },
      "execution_count": null,
      "outputs": []
    }
  ]
}